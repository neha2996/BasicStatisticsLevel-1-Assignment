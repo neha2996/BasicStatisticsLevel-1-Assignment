{
 "cells": [
  {
   "cell_type": "markdown",
   "id": "e48de41c",
   "metadata": {},
   "source": [
    "Q11)Suppose we want to estimate the average weight of an adult male in Mexico.We draw a random sample of 2,000 men from a \n",
    "population of 3,000,000 men and weigh them.We find that the average person in our sample weighs 200 pounds, and the standard deviation of the sample is 30 pounds.Calculate 94%,98%,96% confidence interval?"
   ]
  },
  {
   "cell_type": "code",
   "execution_count": 1,
   "id": "e363d6f4",
   "metadata": {
    "ExecuteTime": {
     "end_time": "2021-08-15T15:29:44.819937Z",
     "start_time": "2021-08-15T15:29:43.980808Z"
    }
   },
   "outputs": [],
   "source": [
    "from scipy import stats\n",
    "import numpy as np"
   ]
  },
  {
   "cell_type": "code",
   "execution_count": 3,
   "id": "1a7d01c2",
   "metadata": {
    "ExecuteTime": {
     "end_time": "2021-08-15T15:31:54.585086Z",
     "start_time": "2021-08-15T15:31:54.561097Z"
    }
   },
   "outputs": [
    {
     "name": "stdout",
     "output_type": "stream",
     "text": [
      "Weight of an adult male in mexico at 94% confidence interval: [143.5762 256.4238]\n"
     ]
    }
   ],
   "source": [
    "#Average weight of an adult at 94% C.L\n",
    "weight=stats.norm.interval(0.94,200,30)\n",
    "print(\"Weight of an adult male in mexico at 94% confidence interval:\",np.round(weight,4))"
   ]
  },
  {
   "cell_type": "code",
   "execution_count": 5,
   "id": "4321ca29",
   "metadata": {
    "ExecuteTime": {
     "end_time": "2021-07-15T15:34:30.067434Z",
     "start_time": "2021-07-15T15:34:30.043761Z"
    }
   },
   "outputs": [
    {
     "name": "stdout",
     "output_type": "stream",
     "text": [
      "Weight of an adult male in mexico at 98% confidence interval: [130.2096 269.7904]\n"
     ]
    }
   ],
   "source": [
    "#Average weight of an adult at 98% C.L\n",
    "weight=stats.norm.interval(0.98,200,30)\n",
    "print(\"Weight of an adult male in mexico at 98% confidence interval:\",np.round(weight,4))"
   ]
  },
  {
   "cell_type": "code",
   "execution_count": 6,
   "id": "e003c116",
   "metadata": {
    "ExecuteTime": {
     "end_time": "2021-07-15T15:35:00.210866Z",
     "start_time": "2021-07-15T15:35:00.190247Z"
    }
   },
   "outputs": [
    {
     "name": "stdout",
     "output_type": "stream",
     "text": [
      "Weight of an adult male in mexico at 96% confidence interval: [138.3875 261.6125]\n"
     ]
    }
   ],
   "source": [
    "#Average weight of an adult at 96% C.L\n",
    "weight=stats.norm.interval(0.96,200,30)\n",
    "print(\"Weight of an adult male in mexico at 96% confidence interval:\",np.round(weight,4))"
   ]
  },
  {
   "cell_type": "code",
   "execution_count": null,
   "id": "f30a9c82",
   "metadata": {},
   "outputs": [],
   "source": []
  }
 ],
 "metadata": {
  "kernelspec": {
   "display_name": "Python 3",
   "language": "python",
   "name": "python3"
  },
  "language_info": {
   "codemirror_mode": {
    "name": "ipython",
    "version": 3
   },
   "file_extension": ".py",
   "mimetype": "text/x-python",
   "name": "python",
   "nbconvert_exporter": "python",
   "pygments_lexer": "ipython3",
   "version": "3.8.8"
  },
  "varInspector": {
   "cols": {
    "lenName": 16,
    "lenType": 16,
    "lenVar": 40
   },
   "kernels_config": {
    "python": {
     "delete_cmd_postfix": "",
     "delete_cmd_prefix": "del ",
     "library": "var_list.py",
     "varRefreshCmd": "print(var_dic_list())"
    },
    "r": {
     "delete_cmd_postfix": ") ",
     "delete_cmd_prefix": "rm(",
     "library": "var_list.r",
     "varRefreshCmd": "cat(var_dic_list()) "
    }
   },
   "types_to_exclude": [
    "module",
    "function",
    "builtin_function_or_method",
    "instance",
    "_Feature"
   ],
   "window_display": false
  }
 },
 "nbformat": 4,
 "nbformat_minor": 5
}
