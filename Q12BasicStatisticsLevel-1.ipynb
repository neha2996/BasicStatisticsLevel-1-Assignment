{
 "cells": [
  {
   "cell_type": "markdown",
   "id": "ff7d8a43",
   "metadata": {},
   "source": [
    "Q12)Below are the scores obtained by a student in tests.\n",
    "  34,36,36,38,38,39,39,40,40,41,41,41,41,42,42,45,49,56\n",
    "1)Find mean, median, variance, standard deviation.\n",
    "2)What can we say about the student marks? \n"
   ]
  },
  {
   "cell_type": "code",
   "execution_count": 7,
   "id": "fadc590d",
   "metadata": {
    "ExecuteTime": {
     "end_time": "2021-08-15T15:07:03.582989Z",
     "start_time": "2021-08-15T15:07:03.247913Z"
    }
   },
   "outputs": [],
   "source": [
    "import pandas as pd\n",
    "import matplotlib.pyplot as plt"
   ]
  },
  {
   "cell_type": "code",
   "execution_count": 2,
   "id": "8e3036c0",
   "metadata": {
    "ExecuteTime": {
     "end_time": "2021-08-15T15:00:28.880429Z",
     "start_time": "2021-08-15T15:00:28.863945Z"
    }
   },
   "outputs": [
    {
     "data": {
      "text/plain": [
       "0     34\n",
       "1     36\n",
       "2     36\n",
       "3     38\n",
       "4     38\n",
       "5     39\n",
       "6     39\n",
       "7     40\n",
       "8     40\n",
       "9     41\n",
       "10    41\n",
       "11    41\n",
       "12    41\n",
       "13    42\n",
       "14    42\n",
       "15    45\n",
       "16    49\n",
       "17    56\n",
       "dtype: int64"
      ]
     },
     "execution_count": 2,
     "metadata": {},
     "output_type": "execute_result"
    }
   ],
   "source": [
    "student_marks=pd.Series([34,36,36,38,38,39,39,40,40,41,41,41,41,42,42,45,49,56])\n",
    "student_marks"
   ]
  },
  {
   "cell_type": "code",
   "execution_count": 3,
   "id": "e73d147f",
   "metadata": {
    "ExecuteTime": {
     "end_time": "2021-08-15T15:03:12.915272Z",
     "start_time": "2021-08-15T15:03:12.900029Z"
    }
   },
   "outputs": [
    {
     "data": {
      "text/plain": [
       "41.0"
      ]
     },
     "execution_count": 3,
     "metadata": {},
     "output_type": "execute_result"
    }
   ],
   "source": [
    "#mean\n",
    "student_marks.mean()"
   ]
  },
  {
   "cell_type": "code",
   "execution_count": 12,
   "id": "a0e43633",
   "metadata": {
    "ExecuteTime": {
     "end_time": "2021-08-15T15:14:20.266582Z",
     "start_time": "2021-08-15T15:14:20.242485Z"
    }
   },
   "outputs": [
    {
     "data": {
      "text/plain": [
       "40.5"
      ]
     },
     "execution_count": 12,
     "metadata": {},
     "output_type": "execute_result"
    }
   ],
   "source": [
    "#median\n",
    "student_marks.median()"
   ]
  },
  {
   "cell_type": "code",
   "execution_count": 4,
   "id": "d23089c1",
   "metadata": {
    "ExecuteTime": {
     "end_time": "2021-08-15T15:05:00.925324Z",
     "start_time": "2021-08-15T15:05:00.917329Z"
    }
   },
   "outputs": [
    {
     "data": {
      "text/plain": [
       "25.529411764705884"
      ]
     },
     "execution_count": 4,
     "metadata": {},
     "output_type": "execute_result"
    }
   ],
   "source": [
    "#variance\n",
    "student_marks.var()"
   ]
  },
  {
   "cell_type": "code",
   "execution_count": 5,
   "id": "41c15e00",
   "metadata": {
    "ExecuteTime": {
     "end_time": "2021-08-15T15:05:18.610372Z",
     "start_time": "2021-08-15T15:05:18.596039Z"
    }
   },
   "outputs": [
    {
     "data": {
      "text/plain": [
       "5.05266382858645"
      ]
     },
     "execution_count": 5,
     "metadata": {},
     "output_type": "execute_result"
    }
   ],
   "source": [
    "#standard deviation\n",
    "student_marks.std()"
   ]
  },
  {
   "cell_type": "code",
   "execution_count": 11,
   "id": "1d8171ae",
   "metadata": {
    "ExecuteTime": {
     "end_time": "2021-08-15T15:09:53.663906Z",
     "start_time": "2021-08-15T15:09:53.559221Z"
    }
   },
   "outputs": [
    {
     "data": {
      "text/plain": [
       "(array([3., 2., 4., 6., 0., 1., 1., 0., 0., 1.]),\n",
       " array([34. , 36.2, 38.4, 40.6, 42.8, 45. , 47.2, 49.4, 51.6, 53.8, 56. ]),\n",
       " <BarContainer object of 10 artists>)"
      ]
     },
     "execution_count": 11,
     "metadata": {},
     "output_type": "execute_result"
    },
    {
     "data": {
      "image/png": "[encoded data removed]",
      "text/plain": [
       "<Figure size 432x288 with 1 Axes>"
      ]
     },
     "metadata": {
      "needs_background": "light"
     },
     "output_type": "display_data"
    }
   ],
   "source": [
    "plt.style.use(['bmh']) \n",
    "plt.hist(student_marks)"
   ]
  },
  {
   "cell_type": "code",
   "execution_count": 10,
   "id": "4902b730",
   "metadata": {
    "ExecuteTime": {
     "end_time": "2021-08-15T15:09:31.551640Z",
     "start_time": "2021-08-15T15:09:31.463578Z"
    }
   },
   "outputs": [
    {
     "data": {
      "text/plain": [
       "{'whiskers': [<matplotlib.lines.Line2D at 0x2b3facfb910>,\n",
       "  <matplotlib.lines.Line2D at 0x2b3face3e80>],\n",
       " 'caps': [<matplotlib.lines.Line2D at 0x2b3face92b0>,\n",
       "  <matplotlib.lines.Line2D at 0x2b3fac7b160>],\n",
       " 'boxes': [<matplotlib.lines.Line2D at 0x2b3fac73430>],\n",
       " 'medians': [<matplotlib.lines.Line2D at 0x2b3fac7b220>],\n",
       " 'fliers': [<matplotlib.lines.Line2D at 0x2b3facd1550>],\n",
       " 'means': []}"
      ]
     },
     "execution_count": 10,
     "metadata": {},
     "output_type": "execute_result"
    },
    {
     "data": {
      "image/png": "[encoded data removed]",
      "text/plain": [
       "<Figure size 432x288 with 1 Axes>"
      ]
     },
     "metadata": {
      "needs_background": "light"
     },
     "output_type": "display_data"
    }
   ],
   "source": [
    "plt.boxplot(student_marks)"
   ]
  },
  {
   "cell_type": "markdown",
   "id": "0d9fe3a7",
   "metadata": {},
   "source": [
    "Inferences:The student has scored marks more number of times in the range of 35 to 40 \n",
    "           and less number of times in the range 55 to 60.\n",
    "           The highest marks scored is 56."
   ]
  }
 ],
 "metadata": {
  "kernelspec": {
   "display_name": "Python 3",
   "language": "python",
   "name": "python3"
  },
  "language_info": {
   "codemirror_mode": {
    "name": "ipython",
    "version": 3
   },
   "file_extension": ".py",
   "mimetype": "text/x-python",
   "name": "python",
   "nbconvert_exporter": "python",
   "pygments_lexer": "ipython3",
   "version": "3.8.8"
  },
  "varInspector": {
   "cols": {
    "lenName": 16,
    "lenType": 16,
    "lenVar": 40
   },
   "kernels_config": {
    "python": {
     "delete_cmd_postfix": "",
     "delete_cmd_prefix": "del ",
     "library": "var_list.py",
     "varRefreshCmd": "print(var_dic_list())"
    },
    "r": {
     "delete_cmd_postfix": ") ",
     "delete_cmd_prefix": "rm(",
     "library": "var_list.r",
     "varRefreshCmd": "cat(var_dic_list()) "
    }
   },
   "types_to_exclude": [
    "module",
    "function",
    "builtin_function_or_method",
    "instance",
    "_Feature"
   ],
   "window_display": false
  }
 },
 "nbformat": 4,
 "nbformat_minor": 5
}
