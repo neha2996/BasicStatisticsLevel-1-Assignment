{
 "cells": [
  {
   "cell_type": "markdown",
   "id": "b536948d",
   "metadata": {},
   "source": [
    "Q23)Calculate the t scores of 95% confidence interval,96% confidence        \n",
    "interval,99% confidence interval for sample size of 25."
   ]
  },
  {
   "cell_type": "code",
   "execution_count": 1,
   "id": "27f03af4",
   "metadata": {
    "ExecuteTime": {
     "end_time": "2021-07-12T16:57:19.020815Z",
     "start_time": "2021-07-12T16:57:18.662862Z"
    }
   },
   "outputs": [],
   "source": [
    "from scipy import stats"
   ]
  },
  {
   "cell_type": "code",
   "execution_count": 2,
   "id": "f9cfd28f",
   "metadata": {
    "ExecuteTime": {
     "end_time": "2021-07-12T16:57:20.964684Z",
     "start_time": "2021-07-12T16:57:20.956639Z"
    }
   },
   "outputs": [],
   "source": [
    "df=24 #degrees of freedom(df)=25-1=24"
   ]
  },
  {
   "cell_type": "code",
   "execution_count": 3,
   "id": "b357238e",
   "metadata": {
    "ExecuteTime": {
     "end_time": "2021-07-12T16:57:23.076827Z",
     "start_time": "2021-07-12T16:57:23.044124Z"
    }
   },
   "outputs": [
    {
     "data": {
      "text/plain": [
       "2.0638985616280205"
      ]
     },
     "execution_count": 3,
     "metadata": {},
     "output_type": "execute_result"
    }
   ],
   "source": [
    "stats.t.ppf(0.975,24) #tscore for 95% C.L"
   ]
  },
  {
   "cell_type": "code",
   "execution_count": 4,
   "id": "8e798961",
   "metadata": {
    "ExecuteTime": {
     "end_time": "2021-07-12T17:04:00.232445Z",
     "start_time": "2021-07-12T17:04:00.224240Z"
    }
   },
   "outputs": [
    {
     "data": {
      "text/plain": [
       "2.1715446760080677"
      ]
     },
     "execution_count": 4,
     "metadata": {},
     "output_type": "execute_result"
    }
   ],
   "source": [
    "stats.t.ppf(0.98,24) #tscore for 96% C.L"
   ]
  },
  {
   "cell_type": "code",
   "execution_count": 5,
   "id": "407e0020",
   "metadata": {
    "ExecuteTime": {
     "end_time": "2021-07-12T17:05:09.374896Z",
     "start_time": "2021-07-12T17:05:09.358881Z"
    }
   },
   "outputs": [
    {
     "data": {
      "text/plain": [
       "2.796939504772804"
      ]
     },
     "execution_count": 5,
     "metadata": {},
     "output_type": "execute_result"
    }
   ],
   "source": [
    "stats.t.ppf(0.995,24) #tscore for 99% C.L"
   ]
  }
 ],
 "metadata": {
  "kernelspec": {
   "display_name": "Python 3",
   "language": "python",
   "name": "python3"
  },
  "language_info": {
   "codemirror_mode": {
    "name": "ipython",
    "version": 3
   },
   "file_extension": ".py",
   "mimetype": "text/x-python",
   "name": "python",
   "nbconvert_exporter": "python",
   "pygments_lexer": "ipython3",
   "version": "3.8.8"
  },
  "varInspector": {
   "cols": {
    "lenName": 16,
    "lenType": 16,
    "lenVar": 40
   },
   "kernels_config": {
    "python": {
     "delete_cmd_postfix": "",
     "delete_cmd_prefix": "del ",
     "library": "var_list.py",
     "varRefreshCmd": "print(var_dic_list())"
    },
    "r": {
     "delete_cmd_postfix": ") ",
     "delete_cmd_prefix": "rm(",
     "library": "var_list.r",
     "varRefreshCmd": "cat(var_dic_list()) "
    }
   },
   "types_to_exclude": [
    "module",
    "function",
    "builtin_function_or_method",
    "instance",
    "_Feature"
   ],
   "window_display": false
  }
 },
 "nbformat": 4,
 "nbformat_minor": 5
}
