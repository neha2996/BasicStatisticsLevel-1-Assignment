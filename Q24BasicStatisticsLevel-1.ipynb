{
 "cells": [
  {
   "cell_type": "markdown",
   "id": "ba7d41d9",
   "metadata": {},
   "source": [
    "Q24)A Government company claims that an average light bulb lasts 270 days.A researcher randomly selects 18 bulbs for testing.\n",
    "The sampled bulbs last an average of 260 days,with a standard deviation of 90 days.If the CEO's claim were true, \n",
    "what is the probability that 18 randomly selected bulbs would have an average life of no more than 260 days."
   ]
  },
  {
   "cell_type": "code",
   "execution_count": 2,
   "id": "dcb31197",
   "metadata": {
    "ExecuteTime": {
     "end_time": "2021-07-16T14:30:56.586438Z",
     "start_time": "2021-07-16T14:30:55.923497Z"
    }
   },
   "outputs": [],
   "source": [
    "from scipy import stats"
   ]
  },
  {
   "cell_type": "code",
   "execution_count": 3,
   "id": "d728d6c5",
   "metadata": {
    "ExecuteTime": {
     "end_time": "2021-07-16T14:30:57.839718Z",
     "start_time": "2021-07-16T14:30:57.823703Z"
    }
   },
   "outputs": [
    {
     "data": {
      "text/plain": [
       "8.898903848214099e-05"
      ]
     },
     "execution_count": 3,
     "metadata": {},
     "output_type": "execute_result"
    }
   ],
   "source": [
    "stats.t.pdf(17,260,270,90)"
   ]
  },
  {
   "cell_type": "markdown",
   "id": "e181554f",
   "metadata": {},
   "source": [
    "Probability that 18 randomly selected bulbs would have an average life of no more than 260 days is 8.898903848214099e-05."
   ]
  }
 ],
 "metadata": {
  "kernelspec": {
   "display_name": "Python 3",
   "language": "python",
   "name": "python3"
  },
  "language_info": {
   "codemirror_mode": {
    "name": "ipython",
    "version": 3
   },
   "file_extension": ".py",
   "mimetype": "text/x-python",
   "name": "python",
   "nbconvert_exporter": "python",
   "pygments_lexer": "ipython3",
   "version": "3.8.8"
  },
  "varInspector": {
   "cols": {
    "lenName": 16,
    "lenType": 16,
    "lenVar": 40
   },
   "kernels_config": {
    "python": {
     "delete_cmd_postfix": "",
     "delete_cmd_prefix": "del ",
     "library": "var_list.py",
     "varRefreshCmd": "print(var_dic_list())"
    },
    "r": {
     "delete_cmd_postfix": ") ",
     "delete_cmd_prefix": "rm(",
     "library": "var_list.r",
     "varRefreshCmd": "cat(var_dic_list()) "
    }
   },
   "types_to_exclude": [
    "module",
    "function",
    "builtin_function_or_method",
    "instance",
    "_Feature"
   ],
   "window_display": false
  }
 },
 "nbformat": 4,
 "nbformat_minor": 5
}
