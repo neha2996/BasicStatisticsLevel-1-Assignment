{
 "cells": [
  {
   "cell_type": "markdown",
   "id": "2408df9f",
   "metadata": {},
   "source": [
    "Q22)Calculate the Z scores of 90% confidence interval,94% confidence\n",
    "interval,60% confidence interval.\n"
   ]
  },
  {
   "cell_type": "code",
   "execution_count": 2,
   "id": "59f1ffd9",
   "metadata": {
    "ExecuteTime": {
     "end_time": "2021-07-12T14:44:02.489434Z",
     "start_time": "2021-07-12T14:44:02.095302Z"
    }
   },
   "outputs": [],
   "source": [
    "from scipy import stats"
   ]
  },
  {
   "cell_type": "code",
   "execution_count": 3,
   "id": "7433204e",
   "metadata": {
    "ExecuteTime": {
     "end_time": "2021-07-12T14:44:04.733761Z",
     "start_time": "2021-07-12T14:44:04.709706Z"
    }
   },
   "outputs": [
    {
     "data": {
      "text/plain": [
       "1.6448536269514722"
      ]
     },
     "execution_count": 3,
     "metadata": {},
     "output_type": "execute_result"
    }
   ],
   "source": [
    "stats.norm.ppf(0.95) #zscore for 90% C.L"
   ]
  },
  {
   "cell_type": "code",
   "execution_count": 4,
   "id": "289a8223",
   "metadata": {
    "ExecuteTime": {
     "end_time": "2021-07-12T14:48:19.447388Z",
     "start_time": "2021-07-12T14:48:19.431380Z"
    }
   },
   "outputs": [
    {
     "data": {
      "text/plain": [
       "1.8807936081512509"
      ]
     },
     "execution_count": 4,
     "metadata": {},
     "output_type": "execute_result"
    }
   ],
   "source": [
    "stats.norm.ppf(0.97) #zscore for 94% C.l"
   ]
  },
  {
   "cell_type": "code",
   "execution_count": 5,
   "id": "c2c4308e",
   "metadata": {
    "ExecuteTime": {
     "end_time": "2021-07-12T14:50:24.882725Z",
     "start_time": "2021-07-12T14:50:24.864502Z"
    }
   },
   "outputs": [
    {
     "data": {
      "text/plain": [
       "0.8416212335729143"
      ]
     },
     "execution_count": 5,
     "metadata": {},
     "output_type": "execute_result"
    }
   ],
   "source": [
    "stats.norm.ppf(0.80) #zscore for 60% C.L"
   ]
  }
 ],
 "metadata": {
  "kernelspec": {
   "display_name": "Python 3",
   "language": "python",
   "name": "python3"
  },
  "language_info": {
   "codemirror_mode": {
    "name": "ipython",
    "version": 3
   },
   "file_extension": ".py",
   "mimetype": "text/x-python",
   "name": "python",
   "nbconvert_exporter": "python",
   "pygments_lexer": "ipython3",
   "version": "3.8.8"
  },
  "varInspector": {
   "cols": {
    "lenName": 16,
    "lenType": 16,
    "lenVar": 40
   },
   "kernels_config": {
    "python": {
     "delete_cmd_postfix": "",
     "delete_cmd_prefix": "del ",
     "library": "var_list.py",
     "varRefreshCmd": "print(var_dic_list())"
    },
    "r": {
     "delete_cmd_postfix": ") ",
     "delete_cmd_prefix": "rm(",
     "library": "var_list.r",
     "varRefreshCmd": "cat(var_dic_list()) "
    }
   },
   "types_to_exclude": [
    "module",
    "function",
    "builtin_function_or_method",
    "instance",
    "_Feature"
   ],
   "window_display": false
  }
 },
 "nbformat": 4,
 "nbformat_minor": 5
}
